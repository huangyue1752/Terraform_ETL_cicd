{
 "cells": [
  {
   "cell_type": "code",
   "execution_count": null,
   "metadata": {
    "application/vnd.databricks.v1+cell": {
     "cellMetadata": {
      "byteLimit": 2048000,
      "rowLimit": 10000
     },
     "inputWidgets": {},
     "nuid": "18d67a9a-9a86-4404-9cc5-08d30d1ba07a",
     "showTitle": false,
     "title": ""
    }
   },
   "outputs": [],
   "source": [
    "from pyspark.sql.functions import col, from_json, explode\n",
    "from pyspark.sql.types import StructType, StringType, StructField\n",
    "from pyspark.dbutils import DBUtils\n",
    "from pyspark.sql import SparkSession\n",
    "\n",
    "# Create Spark session\n",
    "spark = SparkSession.builder \\\n",
    "    .appName(\"YourAppName\") \\\n",
    "    .getOrCreate()\n",
    "\n",
    "# Initialize DBUtils\n",
    "dbutils = DBUtils(spark)\n",
    "\n",
    "def setup_streaming_pipeline(spark, catalog_name, bronze_db, silver_db, bronze_table, silver_table, eventHubName, key_vault, connector, checkpoint_base_path, json_schema, explode_field=None):\n",
    "    \"\"\"\n",
    "    Sets up a streaming pipeline to read from Azure Event Hub, store data in bronze Delta table, and process it to silver Delta table.\n",
    "    \n",
    "    Parameters:\n",
    "        spark (SparkSession): The Spark session.\n",
    "        catalog_name (str): Name of the catalog.\n",
    "        bronze_db (str): Bronze database name.\n",
    "        silver_db (str): Silver database name.\n",
    "        bronze_table (str): Bronze table name to store raw data.\n",
    "        silver_table (str): Silver table name to store processed data.\n",
    "        eventHubName (str): Name of the Azure Event Hub.\n",
    "        key_vault (str): Azure Key Vault name to retrieve secrets.\n",
    "        connector (str): Secret name in Key Vault to get the Event Hub connection string.\n",
    "        checkpoint_base_path (str): Base path for checkpointing.\n",
    "        json_schema (StructType): JSON schema to apply to the incoming data.\n",
    "        explode_field (str, optional): Field to explode if it's an array. Default is None.\n",
    "    \"\"\"\n",
    "    \n",
    "    # Set up widgets and paths\n",
    "    notebook_name = DBUtils(spark).notebook.entry_point.getDbutils().notebook().getContext().notebookPath().get().split(\"/\")[-1].split(\".\")[0]\n",
    "    bronze_checkpoint_path = f\"{checkpoint_base_path}/{catalog_name}/{bronze_db}/checkpoints/{notebook_name}/\"\n",
    "    silver_checkpoint_path = f\"{checkpoint_base_path}/{catalog_name}/{silver_db}/checkpoints/{notebook_name}/\"\n",
    "\n",
    "    # Catalog and schema setup\n",
    "    try:\n",
    "        spark.sql(f\"CREATE CATALOG IF NOT EXISTS {catalog_name} MANAGED LOCATION 'abfss://streamingdata-demo@dataengineerdemoweather.dfs.core.windows.net/';\")\n",
    "    except Exception:\n",
    "        print('Catalog might already exist.')\n",
    "\n",
    "    for db in [bronze_db, silver_db]:\n",
    "        try:\n",
    "            spark.sql(f\"CREATE SCHEMA IF NOT EXISTS {catalog_name}.{db};\")\n",
    "        except Exception:\n",
    "            print(f\"{db} schema might already exist.\")\n",
    "\n",
    "    for db, path in [(bronze_db, bronze_checkpoint_path), (silver_db, silver_checkpoint_path)]:\n",
    "        try:\n",
    "            spark.sql(f\"CREATE VOLUME IF NOT EXISTS {catalog_name}.{db}.checkpoints;\")\n",
    "        except Exception:\n",
    "            print(f\"{db} checkpoints might already exist.\")\n",
    "    \n",
    "    # Event Hub configuration\n",
    "    connectionString = dbutils.secrets.get(key_vault, connector)\n",
    "    ehConf = {\n",
    "        'eventhubs.connectionString': spark._jvm.org.apache.spark.eventhubs.EventHubsUtils.encrypt(connectionString),\n",
    "        'eventhubs.eventHubName': eventHubName\n",
    "    }\n",
    "\n",
    "    # Reading stream from Azure Event Hub and writing to the Bronze Delta table\n",
    "    df_bronze = spark.readStream \\\n",
    "        .format(\"eventhubs\") \\\n",
    "        .options(**ehConf) \\\n",
    "        .load()\n",
    "\n",
    "    df_bronze.display()  # For debugging and visualization\n",
    "    \n",
    "    df_bronze.writeStream \\\n",
    "        .option(\"checkpointLocation\", bronze_checkpoint_path) \\\n",
    "        .outputMode(\"append\") \\\n",
    "        .format(\"delta\") \\\n",
    "        .toTable(f\"{catalog_name}.{bronze_db}.{bronze_table}\")\n",
    "\n",
    "    # Processing Bronze table data and writing to Silver Delta table\n",
    "    df_silver = spark.readStream \\\n",
    "        .format(\"delta\") \\\n",
    "        .table(f\"{catalog_name}.{bronze_db}.{bronze_table}\") \\\n",
    "        .withColumn(\"body\", col(\"body\").cast(\"string\")) \\\n",
    "        .withColumn(\"body\", from_json(col(\"body\"), json_schema))\n",
    "\n",
    "    selected_columns = [col(f\"body.{field.name}\") for field in json_schema.fields]\n",
    "\n",
    "    if explode_field:\n",
    "        df_silver = df_silver.select(*selected_columns, col(\"enqueuedTime\").alias('timestamp'), explode(col(f\"body.{explode_field}\")).alias(\"Input_array\"))\n",
    "        df_silver = df_silver.select(*selected_columns, 'timestamp', \n",
    "                                     *[col(f'Input_array.{field.name}').alias(field.name) for field in explode_field.schema.fields])\n",
    "    else:\n",
    "        df_silver = df_silver.select(*selected_columns, col(\"enqueuedTime\").alias('timestamp'))\n",
    "    \n",
    "    df_silver.display()  # For debugging and visualization\n",
    "    \n",
    "    df_silver.writeStream \\\n",
    "        .option(\"checkpointLocation\", silver_checkpoint_path) \\\n",
    "        .outputMode(\"append\") \\\n",
    "        .format(\"delta\") \\\n",
    "        .toTable(f\"{catalog_name}.{silver_db}.{silver_table}\")\n",
    "\n",
    "\n",
    "\n"
   ]
  },
  {
   "cell_type": "code",
   "execution_count": null,
   "metadata": {
    "application/vnd.databricks.v1+cell": {
     "cellMetadata": {
      "byteLimit": 2048000,
      "rowLimit": 10000
     },
     "inputWidgets": {},
     "nuid": "529a8a08-e4bc-4c62-8d75-911a3c19b3ab",
     "showTitle": false,
     "title": ""
    }
   },
   "outputs": [],
   "source": [
    "\n",
    "weather_json_schema = StructType([StructField(\"temperature\",StringType(),True),\n",
    "                      StructField(\"time\",StringType(),True),\n",
    "                      StructField(\"skycondition\", StringType(),True)])\n",
    "\n"
   ]
  },
  {
   "cell_type": "code",
   "execution_count": null,
   "metadata": {
    "application/vnd.databricks.v1+cell": {
     "cellMetadata": {
      "byteLimit": 2048000,
      "rowLimit": 10000
     },
     "inputWidgets": {},
     "nuid": "7fc062f8-c21d-45fc-92f5-b4a178c9746a",
     "showTitle": false,
     "title": ""
    }
   },
   "outputs": [
    {
     "data": {
      "text/html": [
       "<style scoped>\n",
       "  .table-result-container {\n",
       "    max-height: 300px;\n",
       "    overflow: auto;\n",
       "  }\n",
       "  table, th, td {\n",
       "    border: 1px solid black;\n",
       "    border-collapse: collapse;\n",
       "  }\n",
       "  th, td {\n",
       "    padding: 5px;\n",
       "  }\n",
       "  th {\n",
       "    text-align: left;\n",
       "  }\n",
       "</style><div class='table-result-container'><table class='table-result'><thead style='background-color: white'><tr><th>temperature</th><th>time</th><th>skycondition</th><th>timestamp</th></tr></thead><tbody><tr><td>23°C</td><td>Wednesday 4:32 p.m.</td><td>Sunny</td><td>2024-10-23T20:33:38.632Z</td></tr></tbody></table></div>"
      ]
     },
     "metadata": {
      "application/vnd.databricks.v1+output": {
       "addedWidgets": {},
       "aggData": [],
       "aggError": "",
       "aggOverflow": false,
       "aggSchema": [],
       "aggSeriesLimitReached": false,
       "aggType": "",
       "arguments": {},
       "columnCustomDisplayInfos": {},
       "data": [
        [
         "23°C",
         "Wednesday 4:32 p.m.",
         "Sunny",
         "2024-10-23T20:33:38.632Z"
        ]
       ],
       "datasetInfos": [],
       "dbfsResultPath": null,
       "isJsonSchema": true,
       "metadata": {
        "isDbfsCommandResult": false
       },
       "overflow": false,
       "plotOptions": {
        "customPlotOptions": {},
        "displayType": "table",
        "pivotAggregation": null,
        "pivotColumns": null,
        "xColumns": null,
        "yColumns": null
       },
       "removedWidgets": [],
       "schema": [
        {
         "metadata": "{}",
         "name": "temperature",
         "type": "\"string\""
        },
        {
         "metadata": "{}",
         "name": "time",
         "type": "\"string\""
        },
        {
         "metadata": "{}",
         "name": "skycondition",
         "type": "\"string\""
        },
        {
         "metadata": "{}",
         "name": "timestamp",
         "type": "\"timestamp\""
        }
       ],
       "type": "table"
      }
     },
     "output_type": "display_data"
    }
   ],
   "source": [
    "\n",
    "\n",
    "# Example usage for weather data\n",
    "setup_streaming_pipeline(\n",
    "    spark=spark,\n",
    "    catalog_name=\"streaming1\",\n",
    "    bronze_db=\"bronze\",\n",
    "    silver_db=\"silver\",\n",
    "    bronze_table=\"weather_table\",\n",
    "    silver_table=\"weather_table\",\n",
    "    eventHubName=\"streamingeventhubs\",\n",
    "    key_vault=\"testScope1\",\n",
    "    connector=\"testsecrettyler\",\n",
    "    checkpoint_base_path=\"/Volumes\",\n",
    "    json_schema=weather_json_schema\n",
    ")\n"
   ]
  }
 ],
 "metadata": {
  "application/vnd.databricks.v1+notebook": {
   "dashboards": [],
   "environmentMetadata": null,
   "language": "python",
   "notebookMetadata": {
    "mostRecentlyExecutedCommandWithImplicitDF": {
     "commandId": 2839805258280417,
     "dataframes": [
      "_sqldf"
     ]
    },
    "pythonIndentUnit": 4
   },
   "notebookName": "universal_function",
   "widgets": {}
  },
  "language_info": {
   "name": "python"
  }
 },
 "nbformat": 4,
 "nbformat_minor": 0
}
